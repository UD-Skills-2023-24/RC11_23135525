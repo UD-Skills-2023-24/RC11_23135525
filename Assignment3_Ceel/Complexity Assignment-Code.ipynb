{
 "cells": [
  {
   "cell_type": "markdown",
   "id": "8b3110c8-882d-4cf9-838a-58156578d4c6",
   "metadata": {},
   "source": [
    "# Exercise One\n",
    "\n",
    "## 1. Implement this algorithm in Python. \n",
    "\n",
    "Use the NumPy ndarray object for your matrices;"
   ]
  },
  {
   "cell_type": "code",
   "execution_count": 9,
   "id": "e33fca7e-059e-4ffc-9cb0-2216bb7f4a52",
   "metadata": {},
   "outputs": [],
   "source": [
    "import time\n",
    "import numpy as np\n",
    "\n",
    "\n",
    "def multiply_matrices(A, B):\n",
    "    dimension = A.shape[0]\n",
    "    Result = np.zeros((dimension, dimension), dtype=int)\n",
    "    for i in range(dimension):\n",
    "        for j in range(dimension):\n",
    "            Result[i, j] = sum(A[i, k] * B[k, j] for k in range(dimension))\n",
    "    return Result"
   ]
  },
  {
   "cell_type": "markdown",
   "id": "20345f1a-1d43-4734-9116-48bddc37237d",
   "metadata": {},
   "source": [
    "### Implementation and Comparison"
   ]
  },
  {
   "cell_type": "code",
   "execution_count": 5,
   "id": "5cdac697-b4a9-423e-bb47-9e75da29b4d0",
   "metadata": {},
   "outputs": [
    {
     "name": "stdout",
     "output_type": "stream",
     "text": [
      "Results using NumPy's matmul:\n",
      "2 x 2 Matrix: [[22 34]\n",
      " [46 74]]\n",
      "4 x 4 Matrix: [[ 74  42  88 104]\n",
      " [127  90 148 152]\n",
      " [ 52  38  95  91]\n",
      " [ 90  54 103 125]]\n",
      "5 x 5 Matrix: [[ 28  56  84 112 140 168 196]\n",
      " [ 28  56  84 112 140 168 196]\n",
      " [ 28  56  84 112 140 168 196]\n",
      " [ 28  56  84 112 140 168 196]\n",
      " [ 28  56  84 112 140 168 196]\n",
      " [ 28  56  84 112 140 168 196]\n",
      " [ 28  56  84 112 140 168 196]]\n",
      "time:  0.0\n",
      "Results using custom matrix multiplication function:\n",
      "2 x 2 Matrix: [[22 34]\n",
      " [46 74]]\n",
      "4 x 4 Matrix: [[ 74  42  88 104]\n",
      " [127  90 148 152]\n",
      " [ 52  38  95  91]\n",
      " [ 90  54 103 125]]\n",
      "5 x 5 Matrix: [[ 28  56  84 112 140 168 196]\n",
      " [ 28  56  84 112 140 168 196]\n",
      " [ 28  56  84 112 140 168 196]\n",
      " [ 28  56  84 112 140 168 196]\n",
      " [ 28  56  84 112 140 168 196]\n",
      " [ 28  56  84 112 140 168 196]\n",
      " [ 28  56  84 112 140 168 196]]\n",
      "time:  0.0\n",
      "Chained Matrix Multiplication:\n",
      "[[248 360]\n",
      " [536 776]]\n",
      "[[248 360]\n",
      " [536 776]]\n"
     ]
    }
   ],
   "source": [
    "Matrix_A = np.array([[2, 4], [6, 8]])\n",
    "Matrix_B = np.array([[1, 3], [5, 7]])\n",
    "Matrix_C = np.array([[3, 2, 7, 5], [10, 7, 3, 6], [5, 1, 3, 6], [2, 3, 8, 7]])\n",
    "Matrix_D = np.array([[i for i in range(1, 8)] for _ in range(7)])\n",
    "\n",
    "print(\"Results using NumPy's matmul:\")\n",
    "start = time.time()\n",
    "print('2 x 2 Matrix:', np.matmul(Matrix_A, Matrix_B))\n",
    "print('4 x 4 Matrix:', np.matmul(Matrix_C, Matrix_C))\n",
    "print('5 x 5 Matrix:', np.matmul(Matrix_D, Matrix_D))\n",
    "run_time = time.time() - start\n",
    "print('time: ', run_time)\n",
    "\n",
    "start = time.time()\n",
    "print(\"Results using custom matrix multiplication function:\")\n",
    "print('2 x 2 Matrix:', multiply_matrices(Matrix_A, Matrix_B))\n",
    "print('4 x 4 Matrix:', multiply_matrices(Matrix_C, Matrix_C))\n",
    "print('5 x 5 Matrix:', multiply_matrices(Matrix_D, Matrix_D))\n",
    "run_time = time.time() - start\n",
    "print('time: ', run_time)\n",
    "\n",
    "print('Chained Matrix Multiplication:')\n",
    "print(np.matmul(np.matmul(Matrix_A, Matrix_B), Matrix_A))\n",
    "print(multiply_matrices(multiply_matrices(Matrix_A, Matrix_B), Matrix_A))"
   ]
  },
  {
   "cell_type": "markdown",
   "id": "43c0789b-b179-4203-b3ce-5fe776c46185",
   "metadata": {},
   "source": [
    "## 2. Give the asymptotic time complexity of the above algorithm or your implementation (they should be the same). Justify and explain your answer"
   ]
  },
  {
   "cell_type": "markdown",
   "id": "50fbb0bf",
   "metadata": {},
   "source": [
    "The time complexity of this algorithm is 𝑂(𝑛3)"
   ]
  },
  {
   "cell_type": "markdown",
   "id": "131a0a67",
   "metadata": {},
   "source": [
    "#### Explanation:\n",
    " Initializing the result matrix: This step takes constant time 𝑂(1) as it involves creating a matrix of size 𝑛×𝑛.\n",
    " \n",
    " For the 'Nested Loops' for matrix multiplication:\n",
    " \n",
    "   1.There are two nested loops iterating over each element of the resulting matrix 𝐶,each running from 0 to 𝑛−1.\n",
    "    \n",
    "   2.Inside the nested loops,there's a summation operation which runs 𝑛 times for each element of 𝐶.\n",
    "    \n",
    "   3.Thus,the total number of operations inside the nested loops is 𝑛×𝑛×𝑛=𝑛^3.\n",
    " \n",
    " #\n",
    "Therefore, the dominant factor in the time complexity is the cubic term 𝑛^3.\n",
    "\n",
    "Thus, the overall time complexity of the algorithm is 𝑂(𝑛^3)."
   ]
  },
  {
   "cell_type": "markdown",
   "id": "2e0fe85a-8087-429b-a948-ac7cc58fdab2",
   "metadata": {},
   "source": [
    "# Exercise Two\n",
    "## 1. Describe and explain the algorithm. It should contain at least the following:\n",
    "#### - recursiveness: How is it recursive? What is (the criteria for) the base case? How does the recursion step reduce to the base case?\n",
    "#### - divide-and-conquer : How does this algorithm fit into the divide-and\u0002conquer approach? Explain each step of divide, conquer, and combine for this algorithm (as in slide 8 / pdf page 16 of the lecture slides).\n",
    "\n",
    "#\n",
    "#### Explanation:\n",
    "\n",
    "#### Recursiveness:\n",
    "\n",
    "algorithm is recursive, calling itself to perform matrix multiplication on smaller sub-problems. It handles quarter-sized sub-matrices until reaching the base case, where the matrix size reduces to 1x1, simplifying multiplication to a single-element operation. \n",
    "\n",
    "The recursion divides each matrix into four equal-sized sub-matrices, halving the size with each recursive call until reaching the base case.\n",
    "\n",
    "#### Divide-and-Conquer:\n",
    "##### Divide: \n",
    "The algorithm splits the problem of multiplying two n x n matrices into smaller problems by dividing each matrix (A and B) into four sub-matrices.\n",
    "##### Conquer: \n",
    "It recursively solves these smaller multiplication problems, recursively multiplying the sub-matrices until reaching the base case of single-element matrices.\n",
    "##### Combine: \n",
    "After the recursive multiplications, the algorithm combines the results to form the final matrix by concatenating sub-matrix results. The resultant matrix is constructed by concatenating sub-matrices according to their positions.\n",
    "\n",
    "# "
   ]
  },
  {
   "cell_type": "markdown",
   "id": "9ce297ed-aaf6-4298-b7e2-de0b187bb97f",
   "metadata": {},
   "source": [
    "## 2. Implement the recursive algorithm in Python. \n",
    "Reflect on which steps of the pseudocode were straightforward to implement and which hid a lot of complexity behind their language."
   ]
  },
  {
   "cell_type": "code",
   "execution_count": 15,
   "id": "8a82dabe-a796-45bb-9e02-d7972e62dfba",
   "metadata": {},
   "outputs": [],
   "source": [
    "import numpy as np\n",
    "\n",
    "def partition_matrix(matrix):\n",
    "    n = len(matrix)\n",
    "    mid = n // 2\n",
    "    top_left = [row[:mid] for row in matrix[:mid]]\n",
    "    top_right = [row[mid:] for row in matrix[:mid]]\n",
    "    bottom_left = [row[:mid] for row in matrix[mid:]]\n",
    "    bottom_right = [row[mid:] for row in matrix[mid:]]\n",
    "    return top_left, top_right, bottom_left, bottom_right\n",
    "\n",
    "def add_matrices(A, B):\n",
    "    return [[A[i][j] + B[i][j] for j in range(len(A[i]))] for i in range(len(A))]\n",
    "\n",
    "def combine_matrices(top_left, top_right, bottom_left, bottom_right):\n",
    "    top_half = [left + right for left, right in zip(top_left, top_right)]\n",
    "    bottom_half = [left + right for left, right in zip(bottom_left, bottom_right)]\n",
    "    return top_half + bottom_half\n",
    "\n",
    "def recursive_multiply_matrices(A, B):\n",
    "    n = len(A)\n",
    "    if n == 1:\n",
    "        return [[A[0][0] * B[0][0]]]\n",
    "    else:\n",
    "        A11, A12, A21, A22 = partition_matrix(A)\n",
    "        B11, B12, B21, B22 = partition_matrix(B)\n",
    "        M1 = add_matrices(recursive_multiply_matrices(A11, B11), recursive_multiply_matrices(A12, B21))\n",
    "        M2 = add_matrices(recursive_multiply_matrices(A11, B12), recursive_multiply_matrices(A12, B22))\n",
    "        M3 = add_matrices(recursive_multiply_matrices(A21, B11), recursive_multiply_matrices(A22, B21))\n",
    "        M4 = add_matrices(recursive_multiply_matrices(A21, B12), recursive_multiply_matrices(A22, B22))\n",
    "        return combine_matrices(M1, M2, M3, M4)\n"
   ]
  },
  {
   "cell_type": "code",
   "execution_count": 16,
   "id": "569497cb-005e-4679-9c1e-aaab021276ca",
   "metadata": {},
   "outputs": [
    {
     "name": "stdout",
     "output_type": "stream",
     "text": [
      "Results using recursive matrix multiplication:\n",
      "2 x 2 Matrix: [[20, 28], [52, 76]]\n",
      "4 x 4 Matrix: [[90, 100, 110, 120], [202, 228, 254, 280], [314, 356, 398, 440], [426, 484, 542, 600]]\n",
      "Chained Recursive Matrix Multiplication (2 x 2 Matrix):\n",
      "[[160, 256], [432, 688]]\n"
     ]
    }
   ],
   "source": [
    "Matrix_E = np.array([[1, 3], [5, 7]])\n",
    "Matrix_F = np.array([[2, 4], [6, 8]])\n",
    "Matrix_G = np.array([[1, 2, 3, 4], [5, 6, 7, 8], [9, 10, 11, 12], [13, 14, 15, 16]])\n",
    "\n",
    "print(\"Results using recursive matrix multiplication:\")\n",
    "print('2 x 2 Matrix:', recursive_multiply_matrices(Matrix_E, Matrix_F))\n",
    "print('4 x 4 Matrix:', recursive_multiply_matrices(Matrix_G, Matrix_G))\n",
    "\n",
    "print('Chained Recursive Matrix Multiplication (2 x 2 Matrix):')\n",
    "chained_result = recursive_multiply_matrices(recursive_multiply_matrices(Matrix_E, Matrix_F), Matrix_E)\n",
    "print(chained_result)"
   ]
  },
  {
   "cell_type": "markdown",
   "id": "03de60de-8883-403e-b6c0-8b3300c44b94",
   "metadata": {},
   "source": [
    "### Test and compare the practical speed with the non-recursive algorithm"
   ]
  },
  {
   "cell_type": "code",
   "execution_count": 19,
   "id": "ed1d868d-be7c-48ba-8674-2ece0c51de32",
   "metadata": {},
   "outputs": [
    {
     "name": "stdout",
     "output_type": "stream",
     "text": [
      "Basic Multiply Time: 0.0715 s, Recursive Multiply Time: 0.4071 s\n"
     ]
    }
   ],
   "source": [
    "import numpy as np\n",
    "import time\n",
    "\n",
    "Large_Matrix = np.array([[i for i in range(1, 65)] for _ in range(64)])\n",
    "\n",
    "start_time = time.time()\n",
    "result_basic = multiply_matrices(Large_Matrix, Large_Matrix)\n",
    "basic_mul_time = (time.time() - start_time)\n",
    "\n",
    "start_time = time.time()\n",
    "result_recursive = recursive_multiply_matrices(Large_Matrix.tolist(), Large_Matrix.tolist())\n",
    "recursive_mul_time = (time.time() - start_time)\n",
    "\n",
    "print(f\"Basic Multiply Time: {basic_mul_time:.4f} s, Recursive Multiply Time: {recursive_mul_time:.4f} s\")"
   ]
  },
  {
   "cell_type": "markdown",
   "id": "2450fd4f-c6f4-45b0-8569-9903f6686970",
   "metadata": {},
   "source": [
    "## 3. Do a complexity analysis for the SMMRec algorithm. \n",
    "#### - First comment on the complexity of the base case, divide step, conquer step, and combine step separately, then put it all together.\n",
    "\n",
    "##### Divide:\n",
    "The algorithm divides each n x n matrix into four 𝑛/2×𝑛/2 sub-matrices.This step is simple,involving only indexing operations with a constant time complexity 𝑂(1).\n",
    "##### Conquer:\n",
    "The conquer step involves eight recursive calls to multiply the smaller 𝑛/2×𝑛/2 sub-matrices until reaching the base case of 1 x 1 matrices, which are directly multiplied in constant time.\n",
    "##### Combine:\n",
    "The results of the recursive multiplications are combined into the final matrix C using matrix addition, which has a complexity of 𝑂(𝑛^2).\n",
    "##### Overall Complexity:\n",
    "The recurrence relation for the algorithm is 𝑇(𝑛)=8𝑇(𝑛/2)+𝑂(𝑛^2). Solving this gives 𝑇(𝑛)=𝑂(𝑛^3), the same as the iterative approach but foundational for more advanced algorithms like Strassen's method. Notably, it paves the way for Strassen's algorithm, which significantly reduces the complexity to approximately 𝑂(𝑛log⁡27),enhancing efficiency for large matrices.\n",
    "\n",
    "#"
   ]
  },
  {
   "cell_type": "markdown",
   "id": "896ae524-d2f8-4584-bd90-4743be871b28",
   "metadata": {},
   "source": [
    "# Exercise Three\n",
    "\n",
    "## 1. Reflect on the difference between (complexity of) addition/subtraction and multiplication on matrices.\n",
    "\n",
    "\n",
    "Matrix addition and subtraction are straightforward operations for matrices of size 𝑛×𝑛. Each element from one matrix is added or subtracted from the corresponding element of the other matrix, resulting in 𝑛^2 total operations, leading to a computational complexity of 𝑂(𝑛^2).\n",
    "\n",
    "Matrix multiplication is more complex. For each element in the resulting 𝑛×𝑛 matrix, 𝑛 multiplications and 𝑛−1 additions are needed. With 𝑛^2 elements to compute, the straightforward (naive) approach has a complexity of 𝑂(𝑛^3). Each element requires 2𝑛−1 operations, which aggregates to a much higher overall computational effort compared to addition or subtraction.\n",
    "\n",
    "### Implement and test the algorithm"
   ]
  },
  {
   "cell_type": "code",
   "execution_count": 20,
   "id": "e16d0613-f7b0-45e0-a908-87862d9eb070",
   "metadata": {},
   "outputs": [],
   "source": [
    "import numpy as np\n",
    "\n",
    "def enhanced_matrix_split(matrix):\n",
    "    size = len(matrix)\n",
    "    mid_point = size // 2\n",
    "    quadrant1 = [row[:mid_point] for row in matrix[:mid_point]]\n",
    "    quadrant2 = [row[mid_point:] for row in matrix[:mid_point]]\n",
    "    quadrant3 = [row[:mid_point] for row in matrix[mid_point:]]\n",
    "    quadrant4 = [row[mid_point:] for row in matrix[mid_point:]]\n",
    "    return quadrant1, quadrant2, quadrant3, quadrant4\n",
    "\n",
    "def matrix_operation_add(submatrix1, submatrix2):\n",
    "    return [[submatrix1[i][j] + submatrix2[i][j] for j in range(len(submatrix1))] for i in range(len(submatrix1))]\n",
    "\n",
    "def matrix_operation_subtract(submatrix1, submatrix2):\n",
    "    return [[submatrix1[i][j] - submatrix2[i][j] for j in range(len(submatrix1))] for i in range(len(submatrix1))]\n",
    "\n",
    "def assemble_matrix(q1, q2, q3, q4):\n",
    "    upper_half = [left + right for left, right in zip(q1, q2)]\n",
    "    lower_half = [left + right for left, right in zip(q3, q4)]\n",
    "    return upper_half + lower_half\n",
    "\n",
    "def optimized_strassen_matrix_multiply(A, B):\n",
    "    n = len(A)\n",
    "    if n <= 2:  # Use the direct method for small matrices\n",
    "        return recursive_multiply_matrices(A, B)\n",
    "    else:\n",
    "        mid = n // 2\n",
    "        A11, A12, A21, A22 = enhanced_matrix_split(A)\n",
    "        B11, B12, B21, B22 = enhanced_matrix_split(B)\n",
    "        \n",
    "        S1 = matrix_operation_add(A11, A22)\n",
    "        S2 = matrix_operation_add(B11, B22)\n",
    "        S3 = matrix_operation_add(A21, A22)\n",
    "        S4 = B11\n",
    "        S5 = A11\n",
    "        S6 = matrix_operation_subtract(B12, B22)\n",
    "        S7 = A22\n",
    "        S8 = matrix_operation_subtract(B21, B11)\n",
    "        S9 = matrix_operation_add(A11, A12)\n",
    "        S10 = B22\n",
    "        P1 = optimized_strassen_matrix_multiply(S1, S2)\n",
    "        P2 = optimized_strassen_matrix_multiply(S3, S4)\n",
    "        P3 = optimized_strassen_matrix_multiply(S5, S6)\n",
    "        P4 = optimized_strassen_matrix_multiply(S7, S8)\n",
    "        P5 = optimized_strassen_matrix_multiply(S9, S10)\n",
    "        Q1 = matrix_operation_add(matrix_operation_subtract(matrix_operation_add(P1, P4), P5), P2)\n",
    "        Q2 = matrix_operation_add(P3, P5)\n",
    "        Q3 = matrix_operation_add(P2, P4)\n",
    "        Q4 = matrix_operation_subtract(matrix_operation_subtract(matrix_operation_add(P1, P3), P2), P5)\n",
    "\n",
    "        return assemble_matrix(Q1, Q2, Q3, Q4)"
   ]
  },
  {
   "cell_type": "code",
   "execution_count": 22,
   "id": "50f49ab2-e3f5-4396-8ba7-7b946139f820",
   "metadata": {},
   "outputs": [
    {
     "name": "stdout",
     "output_type": "stream",
     "text": [
      "Results using Strassen's algorithm:\n",
      "2 x 2 Matrix: [[20, 28], [52, 76]]\n",
      "4 x 4 Matrix: [[604, 688, 110, 120], [764, 880, 254, 280], [314, 356, 136, 136], [426, 484, 72, 72]]\n"
     ]
    }
   ],
   "source": [
    "Matrix_H = np.array([[1, 3], [5, 7]])\n",
    "Matrix_I = np.array([[2, 4], [6, 8]])\n",
    "Matrix_J = np.array([[1, 2, 3, 4], [5, 6, 7, 8], [9, 10, 11, 12], [13, 14, 15, 16]])\n",
    "\n",
    "print(\"Results using Strassen's algorithm:\")\n",
    "print('2 x 2 Matrix:', optimized_strassen_matrix_multiply(Matrix_H, Matrix_I))\n",
    "print('4 x 4 Matrix:', optimized_strassen_matrix_multiply(Matrix_J, Matrix_J))"
   ]
  },
  {
   "cell_type": "markdown",
   "id": "381eaa85-361d-46a7-864b-b1d49c8ad9c4",
   "metadata": {},
   "source": [
    "### Compare the practical speed with the recursive algorithm"
   ]
  },
  {
   "cell_type": "code",
   "execution_count": 23,
   "id": "8fed3683-65cf-40e1-9bbc-5d5b5e4d31aa",
   "metadata": {},
   "outputs": [
    {
     "name": "stdout",
     "output_type": "stream",
     "text": [
      "Time for Basic Multiplication: 0.5441 s, Time for Recursive Multiplication: 3.5106 s\n"
     ]
    }
   ],
   "source": [
    "Performance_Matrix = np.array([[i for i in range(1, 129)] for _ in range(128)])\n",
    "\n",
    "start_time = time.time()\n",
    "result_from_basic = multiply_matrices(Performance_Matrix, Performance_Matrix)\n",
    "time_for_basic = (time.time() - start_time)\n",
    "\n",
    "start_time = time.time()\n",
    "result_from_recursive = recursive_multiply_matrices(Performance_Matrix.tolist(), Performance_Matrix.tolist())\n",
    "time_for_recursive = (time.time() - start_time)\n",
    "\n",
    "print(f\"Time for Basic Multiplication: {time_for_basic:.4f} s, Time for Recursive Multiplication: {time_for_recursive:.4f} s\")"
   ]
  },
  {
   "cell_type": "markdown",
   "id": "e828420b-dd79-46f3-957c-021e3e3a769d",
   "metadata": {},
   "source": [
    "\n",
    "## 2.Do a complexity analysis of the Strassen algorithm.\n",
    "#### - Instead of starting from scratch, you can also take your result from Exercise 2 and adapt to the optimisation; explain what changes in the complexity formula with these optimisations.\n",
    "\n",
    "##### Standard Recursive Matrix Multiplication: \n",
    "The traditional recursive approach to matrix multiplication has a complexity recurrence of 𝑇(𝑛)=8𝑇(𝑛/2)+𝑂(𝑛^2), which resolves to 𝑂(𝑛^3) according to the Master Theorem.\n",
    "##### Strassen’s Algorithm: \n",
    "Strassen’s algorithm reduces the number of recursive matrix multiplications from 8 to 7 by rearranging and combining operations ingeniously, adding more additions and subtractions but fewer multiplications. This results in a new complexity recurrence: \n",
    "\n",
    "𝑇(𝑛)=7𝑇(𝑛/2)+𝑂(𝑛^2).\n",
    "\n",
    "##### Complexity Analysis: \n",
    "By applying the Master Theorem to Strassen's recurrence, the complexity becomes 𝑇(𝑛)=𝑂(𝑛log⁡27)≈𝑂(𝑛2.81).This optimization demonstrates a significant reduction from the 𝑂(𝑛^3) complexity of the standard recursive approach, underscoring the efficiency gains achievable through Strassen’s method.\n"
   ]
  }
 ],
 "metadata": {
  "kernelspec": {
   "display_name": "Python 3 (ipykernel)",
   "language": "python",
   "name": "python3"
  },
  "language_info": {
   "codemirror_mode": {
    "name": "ipython",
    "version": 3
   },
   "file_extension": ".py",
   "mimetype": "text/x-python",
   "name": "python",
   "nbconvert_exporter": "python",
   "pygments_lexer": "ipython3",
   "version": "3.8.18"
  }
 },
 "nbformat": 4,
 "nbformat_minor": 5
}
